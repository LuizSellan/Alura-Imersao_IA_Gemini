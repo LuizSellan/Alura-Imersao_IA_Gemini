{
  "nbformat": 4,
  "nbformat_minor": 0,
  "metadata": {
    "colab": {
      "provenance": [],
      "authorship_tag": "ABX9TyP4CJDsK1GSOwWHPbXExP3u",
      "include_colab_link": true
    },
    "kernelspec": {
      "name": "python3",
      "display_name": "Python 3"
    },
    "language_info": {
      "name": "python"
    }
  },
  "cells": [
    {
      "cell_type": "markdown",
      "metadata": {
        "id": "view-in-github",
        "colab_type": "text"
      },
      "source": [
        "<a href=\"https://colab.research.google.com/github/LuizSellan/Alura-Imersao_IA_Gemini/blob/main/ChatBox.ipynb\" target=\"_parent\"><img src=\"https://colab.research.google.com/assets/colab-badge.svg\" alt=\"Open In Colab\"/></a>"
      ]
    },
    {
      "cell_type": "markdown",
      "source": [
        "Instalando o SDK do Google"
      ],
      "metadata": {
        "id": "FZHm9sepk5g9"
      }
    },
    {
      "cell_type": "code",
      "source": [
        "!pip install -q -U google.generativeai"
      ],
      "metadata": {
        "id": "gvq8pAobbNBo"
      },
      "execution_count": null,
      "outputs": []
    },
    {
      "cell_type": "markdown",
      "source": [
        "importando minha chave Google AI Studio"
      ],
      "metadata": {
        "id": "pQzna3ibk418"
      }
    },
    {
      "cell_type": "code",
      "source": [
        "import google.generativeai as genai\n",
        "from google.colab import userdata\n",
        "api_key = userdata.get('Secret_Key')\n",
        "genai.configure(api_key=api_key)"
      ],
      "metadata": {
        "collapsed": true,
        "id": "DjmJTYEs61yE"
      },
      "execution_count": null,
      "outputs": []
    },
    {
      "cell_type": "code",
      "source": [
        "from google.colab import userdata\n",
        "userdata.get('secretName')"
      ],
      "metadata": {
        "id": "75qCzX788DYY"
      },
      "execution_count": null,
      "outputs": []
    },
    {
      "cell_type": "markdown",
      "source": [
        "configurando modelo de geração de texto"
      ],
      "metadata": {
        "id": "KXqCk-60lOn1"
      }
    },
    {
      "cell_type": "code",
      "source": [
        "model = genai.GenerativeModel('gemini-pro')"
      ],
      "metadata": {
        "id": "cqULARmTcdcG"
      },
      "execution_count": null,
      "outputs": []
    },
    {
      "cell_type": "markdown",
      "source": [
        "Gerando o texto resposta baseado na pergunta feita"
      ],
      "metadata": {
        "id": "S4ticMcdlaia"
      }
    },
    {
      "cell_type": "code",
      "source": [
        "response = model.generate_content('vamos aprender a fazer pão de forma, me dê uma receita')\n",
        "print(response.text)"
      ],
      "metadata": {
        "colab": {
          "base_uri": "https://localhost:8080/",
          "height": 627
        },
        "id": "lqTfPSaycsF3",
        "outputId": "cb34871e-c110-466b-a911-755c07b486d0"
      },
      "execution_count": null,
      "outputs": [
        {
          "output_type": "stream",
          "name": "stdout",
          "text": [
            "**Ingredientes:**\n",
            "\n",
            "**Para a massa:**\n",
            "\n",
            "* 500g de farinha de trigo (cerca de 3 xícaras e 1/2)\n",
            "* 10g de sal (cerca de 1 colher de sopa)\n",
            "* 15g de açúcar (cerca de 1 colher de sopa)\n",
            "* 10g de fermento biológico seco (cerca de 2 colheres de chá)\n",
            "* 300ml de água morna (cerca de 1 xícara e 1/4)\n",
            "\n",
            "**Para a forma:**\n",
            "\n",
            "* Óleo vegetal ou manteiga para untar\n",
            "\n",
            "**Instruções:**\n",
            "\n",
            "1. **Prepare a massa:** Em uma tigela grande, misture a farinha, o sal e o açúcar. Em outra tigela, dissolva o fermento na água morna. Deixe descansar por 5-10 minutos, ou até espumar.\n",
            "2. **Adicione os líquidos:** Adicione a mistura de fermento à tigela com os ingredientes secos. Mexa até formar uma massa úmida e pegajosa.\n",
            "3. **Sovar a massa:** Transfira a massa para uma superfície levemente enfarinhada. Sove por 5-7 minutos, ou até que a massa fique lisa e elástica.\n",
            "4. **Primeira fermentação:** Coloque a massa em uma tigela untada com óleo. Cubra com um pano úmido e deixe fermentar em um local quente por 1 hora, ou até dobrar de volume.\n",
            "5. **Desgasifique a massa:** Depois da primeira fermentação, soque a massa para desgasificar. Divida a massa em duas partes iguais.\n",
            "6. **Modele o pão:** Modele cada metade da massa em um formato de pão de forma. Coloque os pães em uma assadeira untada com óleo.\n",
            "7. **Segunda fermentação:** Cubra os pães com um pano úmido e deixe fermentar em um local quente por mais 30-45 minutos, ou até dobrar de volume.\n",
            "8. **Preaqueça o forno:** Preaqueça o forno a 200°C.\n",
            "9. **Corte o pão:** Antes de assar, use uma faca afiada para fazer cortes superficiais na parte superior dos pães. Isso ajudará os pães a crescerem uniformemente.\n",
            "10. **Asse:** Asse os pães no forno preaquecido por 25-30 minutos, ou até que fiquem dourados e soem ocos quando batidos.\n",
            "11. **Deixe esfriar:** Retire os pães do forno e deixe esfriar sobre uma gradinha antes de fatiar e servir.\n",
            "\n",
            "**Dicas:**\n",
            "\n",
            "* Use farinha de trigo de alta qualidade para obter um pão macio e fofo.\n",
            "* A temperatura da água deve estar entre 37-43°C para ativar o fermento.\n",
            "* Não salgue demais a massa, pois isso pode inibir o fermento.\n",
            "* Deixe o pão descansar por pelo menos 30 minutos antes de cortar, para que as fatias não esfarelem.\n"
          ]
        }
      ]
    },
    {
      "cell_type": "markdown",
      "source": [
        "listando versões do Gemini"
      ],
      "metadata": {
        "id": "vXzck4T-lmUG"
      }
    },
    {
      "cell_type": "code",
      "source": [
        "for m in genai.list_models():\n",
        "  if 'generateContent' in m.supported_generation_methods:\n",
        "    print(m.name)"
      ],
      "metadata": {
        "colab": {
          "base_uri": "https://localhost:8080/",
          "height": 139
        },
        "id": "hNMyO36TlnUs",
        "outputId": "5cd5cc6c-f26b-4dc3-a647-749905482a20"
      },
      "execution_count": null,
      "outputs": [
        {
          "output_type": "stream",
          "name": "stdout",
          "text": [
            "models/gemini-1.0-pro\n",
            "models/gemini-1.0-pro-001\n",
            "models/gemini-1.0-pro-latest\n",
            "models/gemini-1.0-pro-vision-latest\n",
            "models/gemini-1.5-pro-latest\n",
            "models/gemini-pro\n",
            "models/gemini-pro-vision\n"
          ]
        }
      ]
    },
    {
      "cell_type": "markdown",
      "source": [
        "configurando a temperatura do texto, quão informal será"
      ],
      "metadata": {
        "id": "cMvRYNivsPcM"
      }
    },
    {
      "cell_type": "code",
      "source": [
        "generation_config = {\n",
        "    'candidate_count': 1,\n",
        "    'temperature': 0.5,\n",
        "}"
      ],
      "metadata": {
        "id": "vYWguNj3mMBV"
      },
      "execution_count": null,
      "outputs": []
    },
    {
      "cell_type": "markdown",
      "source": [
        "configurando os parametros de segurança do gerador de texto"
      ],
      "metadata": {
        "id": "-kHkmRHtsYyW"
      }
    },
    {
      "cell_type": "code",
      "source": [
        "safety_settings = {\n",
        "    'HARASSMENT': 'BLOCK_NONE',\n",
        "    'HATE' : 'BLOCK_NONE',\n",
        "    'SEXUAL': 'BLOCK_NONE',\n",
        "    'DANGEROUS': 'BLOCK_NONE',\n",
        "}"
      ],
      "metadata": {
        "id": "iYxq0wi6oA1i"
      },
      "execution_count": null,
      "outputs": []
    },
    {
      "cell_type": "code",
      "source": [
        "model = genai.GenerativeModel(model_name='gemini-1.0-pro',\n",
        "                              generation_config=generation_config,\n",
        "                              safety_settings=safety_settings)"
      ],
      "metadata": {
        "id": "aTKJenKepMoU"
      },
      "execution_count": null,
      "outputs": []
    },
    {
      "cell_type": "markdown",
      "source": [
        "gerando um texto"
      ],
      "metadata": {
        "id": "1CEZqOYXsqDF"
      }
    },
    {
      "cell_type": "code",
      "source": [
        "response = model.generate_content('letra da musica leozinho do caetano veloso')\n",
        "print(response.text)"
      ],
      "metadata": {
        "colab": {
          "base_uri": "https://localhost:8080/",
          "height": 607
        },
        "id": "6y5B1ZytqIz3",
        "outputId": "ae465499-2773-466b-8703-cdf2d93c4184"
      },
      "execution_count": null,
      "outputs": [
        {
          "output_type": "stream",
          "name": "stdout",
          "text": [
            "**Leãozinho**\n",
            "\n",
            "Leãozinho, meu leãozinho\n",
            "Que eu criei com tanto carinho\n",
            "Leãozinho, meu leãozinho\n",
            "Que eu criei com tanto amor\n",
            "\n",
            "(Refrão)\n",
            "Leãozinho, leãozinho\n",
            "Leãozinho, leãozinho\n",
            "Leãozinho, leãozinho\n",
            "Leãozinho, leãozinho\n",
            "\n",
            "Leãozinho, meu leãozinho\n",
            "Que eu criei com tanto cuidado\n",
            "Leãozinho, meu leãozinho\n",
            "Que eu criei com tanto zelo\n",
            "\n",
            "(Refrão)\n",
            "Leãozinho, leãozinho\n",
            "Leãozinho, leãozinho\n",
            "Leãozinho, leãozinho\n",
            "Leãozinho, leãozinho\n",
            "\n",
            "Leãozinho, meu leãozinho\n",
            "Que eu criei com tanto esmero\n",
            "Leãozinho, meu leãozinho\n",
            "Que eu criei com tanto amor\n",
            "\n",
            "(Refrão)\n",
            "Leãozinho, leãozinho\n",
            "Leãozinho, leãozinho\n",
            "Leãozinho, leãozinho\n",
            "Leãozinho, leãozinho\n"
          ]
        }
      ]
    },
    {
      "cell_type": "markdown",
      "source": [
        "criando um chatbox"
      ],
      "metadata": {
        "id": "ePoGLs3asuFP"
      }
    },
    {
      "cell_type": "code",
      "source": [
        "prompt = input(\"O que gostaria de saber?: \")\n",
        "while prompt != 'nao':\n",
        "  response = chat.send_message(prompt)\n",
        "  print('RESPOSTA: ', response.text, \"\\n\")\n",
        "  prompt = input(\"quer saber de algo mais?: \")\n"
      ],
      "metadata": {
        "colab": {
          "base_uri": "https://localhost:8080/",
          "height": 454
        },
        "id": "ZfrOxYu5sxKb",
        "outputId": "fa0d233d-253d-46de-d02a-fba6e867ac76"
      },
      "execution_count": null,
      "outputs": [
        {
          "name": "stdout",
          "output_type": "stream",
          "text": [
            "O que gostaria de saber?: o que é billy e mandy?\n",
            "RESPOSTA:  **Billy e Mandy** é uma série animada de televisão americana criada por Maxwell Atoms para o Cartoon Network. A série segue as aventuras de dois amigos improváveis: Billy, um garoto estúpido e otimista, e Mandy, uma garota cínica e manipuladora.\n",
            "\n",
            "**Personagens Principais:**\n",
            "\n",
            "* **Billy:** Um garoto de 10 anos extremamente estúpido e ingênuo. Ele tem uma imaginação hiperativa e frequentemente se envolve em situações absurdas.\n",
            "* **Mandy:** Uma garota de 10 anos cínica, manipuladora e inteligente. Ela usa Billy para seus próprios propósitos e frequentemente o intimida.\n",
            "* **Puro Osso:** Um esqueleto falante e melhor amigo de Billy. Ele é leal e protetor, mas também sarcástico e preguiçoso.\n",
            "\n",
            "**Trama:**\n",
            "\n",
            "A série segue as aventuras de Billy, Mandy e Puro Osso enquanto eles enfrentam uma variedade de situações bizarras e sobrenaturais. Eles encontram monstros, fantasmas, alienígenas e outros seres estranhos. Apesar de suas diferenças, Billy e Mandy formam uma equipe improvável e sempre conseguem superar seus desafios com uma mistura de sorte e estupidez.\n",
            "\n",
            "**Temas:**\n",
            "\n",
            "* **Amizade:** Apesar de suas diferenças, Billy e Mandy têm um vínculo inquebrável. Eles se apoiam mutuamente, mesmo nos momentos mais estranhos.\n",
            "* **Aceitação:** A série celebra a individualidade e a aceitação. Billy e Mandy são personagens únicos e imperfeitos, mas são amados por seus amigos e familiares.\n",
            "* **Humor:** Billy e Mandy é uma série hilária que usa humor absurdo e situações bizarras para entreter os espectadores.\n",
            "\n",
            "**Legado:**\n",
            "\n",
            "Billy e Mandy foi uma série popular e influente que foi ao ar no Cartoon Network de 2001 a 2007. Ganhou vários prêmios, incluindo dois Emmy Awards. A série ainda é apreciada por fãs ao redor do mundo por seu humor único e personagens memoráveis. \n",
            "\n",
            "quer saber de algo mais?: nao\n"
          ]
        }
      ]
    },
    {
      "cell_type": "code",
      "source": [
        "chat = model.start_chat(history=[])"
      ],
      "metadata": {
        "id": "wB3VhAxAreVv"
      },
      "execution_count": null,
      "outputs": []
    },
    {
      "cell_type": "code",
      "source": [],
      "metadata": {
        "id": "4_5DQNlRtGFt"
      },
      "execution_count": null,
      "outputs": []
    }
  ]
}